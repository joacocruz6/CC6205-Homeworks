{
  "nbformat": 4,
  "nbformat_minor": 0,
  "metadata": {
    "colab": {
      "name": "minitarea4.ipynb",
      "provenance": [],
      "collapsed_sections": []
    },
    "kernelspec": {
      "name": "python3",
      "display_name": "Python 3"
    }
  },
  "cells": [
    {
      "cell_type": "markdown",
      "metadata": {
        "id": "X4lL5hGw07yP",
        "colab_type": "text"
      },
      "source": [
        "# Minitarea 4\n",
        "\n",
        "Por favor, en las respuestas de desarrollo expliquen lo que están haciendo. En las preguntas que son con desarrollo matemático pongan todos los pasos del cálculo (déjenlo bonito porfis :D).\n",
        "\n",
        "Usen $\\LaTeX$ para las fórmulas matemáticas.\n",
        "\n",
        "En la parte de programación pueden usar lo que quieran, pero la auxiliar 3 les puede servir de *inspiración*."
      ]
    },
    {
      "cell_type": "markdown",
      "metadata": {
        "id": "bWXD3D7RYKJ-",
        "colab_type": "text"
      },
      "source": [
        "# Hidden Markov Models (HMM), Maximum Entropy Markov Models (MEMM) and Conditional Random Field(CRF)\n",
        "\n",
        "### Pregunta 1 (1 pt)\n",
        "Para un problema de POS tagging se define el conjunto de etiquetas $S = \\{ D, N, V, P \\}$ y se tiene un Hidden Markov Model con los siguientes parámetros estimados a partir de un corpus de entrenamiento:\n",
        "\n",
        "\\begin{equation}\n",
        "\\begin{split}\n",
        "q(D|N,P) &= 0.4 \\\\\n",
        "q(D|w,P) &= 0 \\qquad \\forall w \\in S, w \\neq N \\\\\n",
        "e(the|D) &= 0.6\n",
        "\\end{split}\n",
        "\\end{equation}\n",
        "\n",
        "Luego para la oración: `Ella walks to the red house`, se tiene una tabla de programación dinámica con los siguientes valores:\n",
        "\\begin{equation}\n",
        "\\begin{split}\n",
        "\\pi(3,D,P)&=0.1\\\\\n",
        "\\pi(3,N,P)&=0.2\\\\\n",
        "\\pi(3,V,P)&=0.01\\\\\n",
        "\\pi(3,P,P)&=0.5\n",
        "\\end{split}\n",
        "\\end{equation}\n",
        "\n",
        "Con esta información, calcule el valor de $\\pi(4,P,D)$. Puede dejar el resultado expresado como una fracción.\n"
      ]
    },
    {
      "cell_type": "markdown",
      "metadata": {
        "id": "5EzgysW9kGi-",
        "colab_type": "text"
      },
      "source": [
        "**Respuesta**"
      ]
    },
    {
      "cell_type": "markdown",
      "metadata": {
        "id": "oiwJb_vmkKLZ",
        "colab_type": "text"
      },
      "source": [
        "### Pregunta 2 (0.5 pts)\n",
        "Comente  sobre las similitudes o diferencias entre los HMMs, MEMMs y CRFs. Para esto, responda las siguientes preguntas.\n",
        "* ¿Para qué tipo de tarea sirven? Dé dos ejemplo de este tipo de tarea y descríbalos brevemente.\n",
        "* ¿Qué modelos usan features? ¿Qué ventajas conlleva esto?\n",
        "* ¿Cómo maneja cada uno de los modelos las palabras con baja frecuencia en el set de train?\n",
        "* ¿Qué le permite a los CRF realizar decisiones globales? ¿Qué diferencia con respecto a los MEMMs permite lograr esto? ¿Por qué los HMMs tampoco son capaces de tomar decisiones globales?"
      ]
    },
    {
      "cell_type": "markdown",
      "metadata": {
        "id": "P9h5ow8OWF7y",
        "colab_type": "text"
      },
      "source": [
        "**Respuesta**"
      ]
    },
    {
      "cell_type": "markdown",
      "metadata": {
        "id": "ClRAHR95Y8aB",
        "colab_type": "text"
      },
      "source": [
        "# Convolutional Neural Networks\n",
        "### Pregunta 3 (1 pt)\n",
        "\n",
        "Considere la frase $w_{1..7}=$ `El agua moja y el fuego quema` $=[El, agua, moja, y, el, fuego, quema]$.\n",
        "\n",
        "La siguiente matriz de embeddings, donde la i-ésima fila corresponde al vector de embedding de la i-ésima palabra, ordenadas segun aparecen en la frase. (vectores de largo 2).\n",
        "\\begin{equation}\n",
        "E = \\begin{pmatrix}\n",
        "2 & 2\\\\\n",
        "0 & -2\\\\\n",
        "0 & 1\\\\\n",
        "-2 & 1\\\\\n",
        "-2 & 0\\\\\n",
        "2 & -1\\\\\n",
        "0 & 2\n",
        "\\end{pmatrix}\n",
        "\\end{equation}\n",
        "\n",
        "Los siguientes 3 filtros\n",
        "\\begin{equation}\n",
        "U = \\begin{pmatrix}\n",
        "-1 & -1 & 0\\\\\n",
        "1 & 1 & 0\\\\\n",
        "0 & 0 & -1\\\\\n",
        "-1 & -1 & -1\\\\\n",
        "-1 & -1 & 1\\\\\n",
        "1 & 0 & -1\n",
        "\\end{pmatrix}\n",
        "\\end{equation}\n",
        "\n",
        "Y la función de activación\n",
        "\\begin{equation}\n",
        "tanh = \\frac{e^{2x} - 1}{e^{2x} + 1}\n",
        "\\end{equation}\n",
        "\n",
        "Usando estos paramátros calcule manualmente la representación (vector) resultante de aplicar la operación de convolución (sin padding) + max pooling.\n"
      ]
    },
    {
      "cell_type": "markdown",
      "metadata": {
        "id": "SlQ30Arkq0u4",
        "colab_type": "text"
      },
      "source": [
        "**Respuesta**"
      ]
    },
    {
      "cell_type": "markdown",
      "metadata": {
        "id": "tj1V_sAzZCHY",
        "colab_type": "text"
      },
      "source": [
        "# Recurrent Neural Networks\n",
        "### Pregunta 4 (1 pt)\n",
        "Sea la siguiente oración: `El perro ladra` representada como una secuencia de vectores $x1,x2,x3$. Donde cada vector corresponde al word embedding de cada palabra, que a la vez es un vector de dos dimensiones\n",
        "\\begin{equation}\n",
        "\\begin{split}\n",
        "x1 &= Embed(El)    &= [1, 0] \\\\\n",
        "x2 &= Embed(perro) &= [-1, 1] \\\\\n",
        "x3 &= Embed(ladra) &= [1,1]\n",
        "\\end{split}\n",
        "\\end{equation}\n",
        "\n",
        "Se tiene una red recurrente Elman: \n",
        "\\begin{equation}\n",
        "\\begin{split}\n",
        "\\vec{s}_i &= R_{SRNN}\\left (\\vec{x}_i, \\vec{s}_{i-1}\\right ) = g \\left (\\vec{s}_{i-1}W^s + \\vec{x}_i W^x + \\vec{b}\\right ) \\\\\n",
        "\\vec{y}_i &= O_{SRNN}\\left(\\vec{s}_i\\right) = \\vec{s}_i \\\\\n",
        "\\end{split}\n",
        "\\end{equation}\n",
        "Con\n",
        "\\begin{equation}\n",
        "\\vec{s}_i, \\vec{y}_i \\in \\mathbb{R}^{d_s}, \\quad \\vec{x}_i \\in \\mathbb{R}^{d_x}, \\quad W^x \\in \\mathbb{R}^{d_x \\times d_s}, \\quad W^s \\in \\mathbb{R}^{d_s \\times d_s}, \\quad \\vec{b} \\in \\mathbb{R}^{d_s}\n",
        "\\end{equation}\n",
        "y donde los vectores de estado $s_i$ son de tres dimensiones, $ds= 3$.\n",
        "\n",
        "Sea\n",
        "\\begin{equation}\n",
        "\\begin{split}\n",
        "\\vec{s}_0 &= [0,0,0]\\\\\n",
        "W^x &= \\begin{pmatrix}\n",
        "0 &  0 & 1\\\\\n",
        "1 & -1 & 0\n",
        "\\end{pmatrix} \\\\\n",
        "W^s &= \\begin{pmatrix}\n",
        "1 & 0 &  1\\\\\n",
        "0 & 1 & -1\\\\\n",
        "1 & 1 &  1\n",
        "\\end{pmatrix} \\\\\n",
        "\\vec{b} &= [0, 0, 0] \\\\\n",
        "g(x) &= ReLu(x) = max(0, x)\n",
        "\\end{split}\n",
        "\\end{equation}\n",
        "\n",
        "<br>\n",
        "\n",
        "Calcule manualmente los valores de $\\vec{s}_1, \\vec{s}_2,\\vec{s}_3$ y de $\\vec{y}_1, \\vec{y}_2,\\vec{y}_3$."
      ]
    },
    {
      "cell_type": "markdown",
      "metadata": {
        "id": "7M7sqIQV-Q3a",
        "colab_type": "text"
      },
      "source": [
        "**Respuesta**"
      ]
    },
    {
      "cell_type": "markdown",
      "metadata": {
        "id": "W4rAT6ELxRZW",
        "colab_type": "text"
      },
      "source": [
        "### Pregunta 5 (0.5 pts)\n",
        "¿De qué forma las RNN y las CNN logran aprender representaciones específicas\n",
        "para la tarea objetivo? Compare la forma en que las RNN y las CNN aprenden con los modelos que usan *features* diseñadas manualmente."
      ]
    },
    {
      "cell_type": "markdown",
      "metadata": {
        "id": "b6AXbQSgA_t8",
        "colab_type": "text"
      },
      "source": [
        "**Respuesta**"
      ]
    },
    {
      "cell_type": "markdown",
      "metadata": {
        "id": "qxQIuO8axTUa",
        "colab_type": "text"
      },
      "source": [
        "# Redes neuronales con PyTorch\n",
        "### Pregunta 6 (2 pts)\n",
        "En esta parte van a tener que implementar una red neuronal Feed Forward. Además, deberán entrenar el modelo usando uno de los datasets de TorchText. En la sección de la respuesta hay un esqueleto de lo que deben hacer, deberán completar los metodos del modelo y la parte asociada al entrenamiento la deben implementar ustedes. De todas formas, como les mencionamos en las auxiliares, el proceso de entrenamiento es bastante estándar, así que se pueden guiar en gran medida por los ejemplos que hemos visto y los que vamos a ver en las próximas auxiliares.\n",
        "\n",
        "### Bonus (0.5 pts)\n",
        "Agregue a la arquitectura una capa convolucional, para esto debe registrar el parametro $U$ en la red y realizar el computo de la convolución en el metodo forward de la red.\n"
      ]
    },
    {
      "cell_type": "code",
      "metadata": {
        "id": "LVKEaQXZ3eGl",
        "colab_type": "code",
        "colab": {}
      },
      "source": [
        "%%capture\n",
        "# Nos aseguramos que torchtext este en la ultima version\n",
        "!pip install --upgrade torchtext"
      ],
      "execution_count": null,
      "outputs": []
    },
    {
      "cell_type": "code",
      "metadata": {
        "id": "dJ-wrzFO5mCC",
        "colab_type": "code",
        "colab": {
          "base_uri": "https://localhost:8080/",
          "height": 191
        },
        "outputId": "de898848-3def-4c0f-84c0-09896b34ab12"
      },
      "source": [
        "# Trabajen con el siguiente dataset\n",
        "import os\n",
        "from random import choice\n",
        "from torchtext.datasets import AG_NEWS\n",
        "\n",
        "os.makedirs(\".data\", exist_ok=True)\n",
        "train_dataset, test_dataset = AG_NEWS(root=\".data\")\n",
        "\n",
        "print(\"\\nUn ejemplo aleatorio\\n\", choice(train_dataset))"
      ],
      "execution_count": null,
      "outputs": [
        {
          "output_type": "stream",
          "text": [
            "120000lines [00:04, 24564.27lines/s]\n",
            "120000lines [00:10, 11828.78lines/s]\n",
            "7600lines [00:00, 12870.97lines/s]\n"
          ],
          "name": "stderr"
        },
        {
          "output_type": "stream",
          "text": [
            "\n",
            "Un ejemplo aleatorio\n",
            " (0, tensor([  197,     4,   380,   233,     5,   808,   362,   174,     3,   705,\n",
            "            9,  1558,   397,  1622,   790,    49,   302,     7,   362,   174,\n",
            "           56,    19,  2587,     7,    47,  1441,    11, 40274,  2569,    46,\n",
            "           79,   764,     7,  1427,   855,  5633,    41,  8658,  1220,    39,\n",
            "         1218,   506,     2]))\n"
          ],
          "name": "stdout"
        }
      ]
    },
    {
      "cell_type": "code",
      "metadata": {
        "id": "wSHn-hYi8XN8",
        "colab_type": "code",
        "colab": {
          "base_uri": "https://localhost:8080/",
          "height": 104
        },
        "outputId": "46e96894-5243-4fd8-9898-2ff5b8d388e0"
      },
      "source": [
        "from pprint import pprint\n",
        "# Informacion relevante del dataset\n",
        "vocab = train_dataset.get_vocab()\n",
        "labels = train_dataset.get_labels()\n",
        "# El nombre de cada label lo pueden encontrar aqui\n",
        "# https://pytorch.org/text/datasets.html#ag-news, aunque no es necesario para \n",
        "# clasificar\n",
        "print(labels)\n",
        "# Un ejemplo convertido a texto\n",
        "pprint(\" \".join(vocab.itos[token] for token in choice(train_dataset)[1]))"
      ],
      "execution_count": null,
      "outputs": [
        {
          "output_type": "stream",
          "text": [
            "{0, 1, 2, 3}\n",
            "('c amp w says sayonara to japan uk-based cable amp wireless , which has been '\n",
            " 'selling off pieces of itself or just discontinuing business in certain world '\n",
            " 'markets it finds unprofitable , is trading its japanese presence to that '\n",
            " 'country #39 s softbank corp .')\n"
          ],
          "name": "stdout"
        }
      ]
    },
    {
      "cell_type": "code",
      "metadata": {
        "id": "IXngUm9HxKvA",
        "colab_type": "code",
        "colab": {}
      },
      "source": [
        "# De aca para abajo viene su respuesta, completen las funciones en la red\n",
        "# y luego entrenen el modelo y evaluenlo usando los dataset que acaban de\n",
        "# cargar\n",
        "import torch\n",
        "import torch.nn as nn\n",
        "\n",
        "\n",
        "class CNNClassifier(nn.Module):\n",
        "    def __init__(self, *args): # Reemplacen el *args por sus argumento\n",
        "        # Aca deben registrar sus parametros. A lo menos necesitan\n",
        "        # una capa de embedding y un MLP basico (una capa lineal + softmax)\n",
        "\n",
        "    def forward(self, *args):\n",
        "        # Aca debe programar la pasada hacia adelante"
      ],
      "execution_count": null,
      "outputs": []
    },
    {
      "cell_type": "code",
      "metadata": {
        "id": "mPHyqgId96ra",
        "colab_type": "code",
        "colab": {}
      },
      "source": [
        "# El resto de su respuesta\n",
        "# Aca deben programar el entrenamiento de la red"
      ],
      "execution_count": null,
      "outputs": []
    }
  ]
}